{
  "cells": [
    {
      "cell_type": "code",
      "execution_count": null,
      "metadata": {
        "id": "ulGv71gAePjX"
      },
      "outputs": [],
      "source": [
        "import pandas as pd"
      ]
    },
    {
      "cell_type": "code",
      "execution_count": null,
      "metadata": {
        "colab": {
          "base_uri": "https://localhost:8080/"
        },
        "id": "-midlQc3ePjc",
        "outputId": "f0dd1fd3-c673-4533-d055-82ed635e6723"
      },
      "outputs": [
        {
          "output_type": "stream",
          "name": "stdout",
          "text": [
            "(99989, 3)\n"
          ]
        }
      ],
      "source": [
        "# Assuming the dataset has 'Sentiment' column containing sentiment value and 'SentimentText' column containing textual data\n",
        "\n",
        "#Load the training dataset\n",
        "train = pd.read_csv('/content/train.csv', encoding='latin-1')\n",
        "print(train.shape)"
      ]
    },
    {
      "cell_type": "code",
      "execution_count": null,
      "metadata": {
        "colab": {
          "base_uri": "https://localhost:8080/"
        },
        "id": "w7qc5ISRePje",
        "outputId": "671fee50-2b08-4125-d3ab-4191e3d8a257"
      },
      "outputs": [
        {
          "output_type": "stream",
          "name": "stdout",
          "text": [
            "   ItemID  Sentiment                                      SentimentText\n",
            "0       1          0                       is so sad for my APL frie...\n",
            "1       2          0                     I missed the New Moon trail...\n",
            "2       3          1                            omg its already 7:30 :O\n",
            "3       4          0            .. Omgaga. Im sooo  im gunna CRy. I'...\n",
            "4       5          0           i think mi bf is cheating on me!!!   ...\n",
            "5       6          0                  or i just worry too much?        \n",
            "6       7          1                 Juuuuuuuuuuuuuuuuussssst Chillin!!\n",
            "7       8          0         Sunny Again        Work Tomorrow  :-|  ...\n",
            "8       9          1        handed in my uniform today . i miss you ...\n",
            "9      10          1           hmmmm.... i wonder how she my number @-)\n"
          ]
        }
      ],
      "source": [
        "# Display the first few rows of the dataset\n",
        "print(train.head(10))"
      ]
    },
    {
      "cell_type": "code",
      "execution_count": null,
      "metadata": {
        "id": "-wdCaQdgePjf"
      },
      "outputs": [],
      "source": [
        "# Preprocessing\n",
        "import nltk\n",
        "from nltk.tokenize import word_tokenize\n",
        "from nltk.corpus import stopwords\n",
        "from nltk.stem import WordNetLemmatizer\n",
        "import re\n",
        "\n",
        "def process_tweet(tweet):\n",
        "    stemmer = PorterStemmer()\n",
        "    stopwords_english = stopwords.words('english')\n",
        "\n",
        "   # replace username\n",
        "    tweet= re.sub('@[^\\s]+', 'AT_USER', tweet)\n",
        "\n",
        "    # convert to lowercase\n",
        "    tweet.lower()\n",
        "\n",
        "    # remove hyperlinks\n",
        "    tweet = re.sub(r'https?:\\/\\/.*[\\r\\n]*', 'URL', tweet)\n",
        "\n",
        "    # remove hashtags, only removing the hash # sign from the word\n",
        "    tweet = re.sub(r'#', '', tweet)\n",
        "\n",
        "    # tokenize tweets\n",
        "    tokenizer = TweetTokenizer(preserve_case=False, strip_handles=True, reduce_len=True)\n",
        "    tweet_tokens = tokenizer.tokenize(tweet)\n",
        "    tweet = []\n",
        "    for word in tweet_tokens:\n",
        "        if (word not in stopwords_english): # remove stopwords\n",
        "            stem_word = stemmer.stem(word)  # stemming word\n",
        "            tweets_clean.append(stem_word)\n",
        "    return tweet"
      ]
    },
    {
      "cell_type": "code",
      "execution_count": null,
      "metadata": {
        "id": "kYciRcZ-ePjg"
      },
      "outputs": [],
      "source": [
        "# Split data into features and labels\n",
        "X = train['SentimentText']\n",
        "y = train['Sentiment']   # Assuming 'label' contains sentiment labels (1 for positive, 0 for negative)"
      ]
    },
    {
      "cell_type": "code",
      "execution_count": null,
      "metadata": {
        "id": "09SuEJBJePjh"
      },
      "outputs": [],
      "source": [
        "# Split the data into training and testing sets\n",
        "from sklearn.model_selection import train_test_split\n",
        "\n",
        "X_train, X_test, y_train, y_test = train_test_split(X, y, test_size=0.2, random_state=42)"
      ]
    },
    {
      "cell_type": "code",
      "execution_count": null,
      "metadata": {
        "id": "kv0TuyANePji"
      },
      "outputs": [],
      "source": [
        "# Convert text data to numerical features using TF-IDF vectorization\n",
        "from sklearn.feature_extraction.text import TfidfVectorizer\n",
        "\n",
        "vectorizer = TfidfVectorizer(max_features=1000)\n",
        "X_train_vectorized = vectorizer.fit_transform(X_train)\n",
        "X_test_vectorized = vectorizer.transform(X_test)"
      ]
    },
    {
      "cell_type": "code",
      "execution_count": null,
      "metadata": {
        "colab": {
          "base_uri": "https://localhost:8080/"
        },
        "id": "Kha1jFoLePjj",
        "outputId": "d964bdfc-a476-4324-e0ff-947822344a63"
      },
      "outputs": [
        {
          "output_type": "stream",
          "name": "stdout",
          "text": [
            "The accuracy of Trained data is  0.761260641822205\n"
          ]
        }
      ],
      "source": [
        "# Train a logistic regression model\n",
        "from sklearn.linear_model import LogisticRegression\n",
        "log_reg = LogisticRegression()\n",
        "log_reg.fit(X_train_vectorized, y_train)\n",
        "log_reg.score(X_train_vectorized, y_train)\n",
        "print('The accuracy of Trained data is ', log_reg.score(X_train_vectorized, y_train))"
      ]
    },
    {
      "cell_type": "code",
      "execution_count": null,
      "metadata": {
        "id": "rCDNxX3pePjk"
      },
      "outputs": [],
      "source": [
        "# Predict the model\n",
        "predictions = log_reg.predict(X_test_vectorized)"
      ]
    },
    {
      "cell_type": "code",
      "execution_count": null,
      "metadata": {
        "colab": {
          "base_uri": "https://localhost:8080/"
        },
        "id": "bXcaJgXHePjk",
        "outputId": "7d682121-d01f-4118-89b9-413662db60a7"
      },
      "outputs": [
        {
          "output_type": "stream",
          "name": "stdout",
          "text": [
            "The accuracy of test data: Accuracy: 75.20%\n",
            "Precision: 75.89%\n",
            "Recall: 81.93%\n",
            "F1-Score: 78.80%\n"
          ]
        }
      ],
      "source": [
        "# Calculate accuracy\n",
        "from sklearn.metrics import accuracy_score\n",
        "\n",
        "accuracy = accuracy_score(y_test, predictions)\n",
        "print(f\"The accuracy of test data: Accuracy: {accuracy*100:.2f}%\")\n",
        "\n",
        "# Calculate precision\n",
        "from sklearn.metrics import precision_score\n",
        "precision = precision_score(y_test, predictions)\n",
        "print(f\"Precision: {precision*100:.2f}%\")\n",
        "\n",
        "# Calculate recall\n",
        "from sklearn.metrics import recall_score\n",
        "recall = recall_score(y_test, predictions)\n",
        "print(f\"Recall: {recall*100:.2f}%\")\n",
        "\n",
        "# Calculate f1-score\n",
        "from sklearn.metrics import f1_score\n",
        "f1_score = f1_score(y_test, predictions)\n",
        "print(f\"F1-Score: {f1_score*100:.2f}%\")"
      ]
    },
    {
      "cell_type": "code",
      "execution_count": null,
      "metadata": {
        "colab": {
          "base_uri": "https://localhost:8080/"
        },
        "id": "jU5kRoC8ePjl",
        "outputId": "68426ceb-0533-40e7-a3ca-3172867dc47c"
      },
      "outputs": [
        {
          "output_type": "stream",
          "name": "stdout",
          "text": [
            "Accuracy: 75.20%\n"
          ]
        }
      ],
      "source": [
        "# Calculate accuracy\n",
        "from sklearn.metrics import accuracy_score\n",
        "\n",
        "accuracy = accuracy_score(y_test, predictions)\n",
        "print(f\"Accuracy: {accuracy*100:.2f}%\")"
      ]
    },
    {
      "cell_type": "code",
      "execution_count": null,
      "metadata": {
        "colab": {
          "base_uri": "https://localhost:8080/"
        },
        "id": "kkFr3JtHePjl",
        "outputId": "582dce35-6fc7-4795-861a-735db4ea798f"
      },
      "outputs": [
        {
          "output_type": "stream",
          "name": "stdout",
          "text": [
            "Precision: 75.89%\n"
          ]
        }
      ],
      "source": [
        "# Calculate precision\n",
        "from sklearn.metrics import precision_score\n",
        "precision = precision_score(y_test, predictions)\n",
        "print(f\"Precision: {precision*100:.2f}%\")"
      ]
    },
    {
      "cell_type": "code",
      "execution_count": null,
      "metadata": {
        "colab": {
          "base_uri": "https://localhost:8080/"
        },
        "id": "ymHUCWMEePjm",
        "outputId": "f6903d3e-6731-4f81-d686-5f0718e300af"
      },
      "outputs": [
        {
          "output_type": "stream",
          "name": "stdout",
          "text": [
            "Recall: 81.93%\n"
          ]
        }
      ],
      "source": [
        "# Calculate recall\n",
        "from sklearn.metrics import recall_score\n",
        "recall = recall_score(y_test, predictions)\n",
        "print(f\"Recall: {recall*100:.2f}%\")"
      ]
    },
    {
      "cell_type": "code",
      "execution_count": null,
      "metadata": {
        "colab": {
          "base_uri": "https://localhost:8080/"
        },
        "id": "9tsywxn5ePjm",
        "outputId": "4bd66c83-c0e7-4372-e561-016a0828f1b3"
      },
      "outputs": [
        {
          "output_type": "stream",
          "name": "stdout",
          "text": [
            "F1-Score: 78.80%\n"
          ]
        }
      ],
      "source": [
        "# Calculate f1-score\n",
        "from sklearn.metrics import f1_score\n",
        "f1_score = f1_score(y_test, predictions)\n",
        "print(f\"F1-Score: {f1_score*100:.2f}%\")"
      ]
    },
    {
      "cell_type": "code",
      "execution_count": null,
      "metadata": {
        "id": "Fx-xcwctePjn"
      },
      "outputs": [],
      "source": [
        "# # Display classification report\n",
        "# from sklearn.metrics import classification_report\n",
        "\n",
        "# print(\"\\nClassification Report:\")\n",
        "# print(classification_report(y_test, predictions))"
      ]
    },
    {
      "cell_type": "code",
      "execution_count": null,
      "metadata": {
        "id": "6KHJcJzKePjn",
        "outputId": "b7b1d718-ae36-407b-9f51-286c99579a9c",
        "colab": {
          "base_uri": "https://localhost:8080/",
          "height": 507
        }
      },
      "outputs": [
        {
          "output_type": "display_data",
          "data": {
            "text/plain": [
              "<Figure size 640x480 with 2 Axes>"
            ],
            "image/png": "[encoded data removed]"
          },
          "metadata": {}
        },
        {
          "output_type": "stream",
          "name": "stdout",
          "text": [
            "[[5822 2928]\n",
            " [2032 9216]]\n"
          ]
        }
      ],
      "source": [
        "# Display confusion matrix\n",
        "from sklearn.metrics import confusion_matrix\n",
        "import matplotlib.pyplot as plt\n",
        "\n",
        "conf_matrix = confusion_matrix(y_test, predictions)\n",
        "plt.imshow(conf_matrix, cmap='Blues', interpolation='nearest')\n",
        "plt.colorbar()\n",
        "plt.xlabel('Predicted')\n",
        "plt.ylabel('Actual')\n",
        "plt.title('Confusion Matrix')\n",
        "plt.show()\n",
        "print(conf_matrix)"
      ]
    },
    {
      "cell_type": "code",
      "execution_count": null,
      "metadata": {
        "id": "HcABfHS7ePjo",
        "outputId": "920aff79-3c1c-4585-ed5a-afa099cf7996",
        "colab": {
          "base_uri": "https://localhost:8080/",
          "height": 472
        }
      },
      "outputs": [
        {
          "output_type": "display_data",
          "data": {
            "text/plain": [
              "<Figure size 640x480 with 2 Axes>"
            ],
            "image/png": "[encoded data removed]"
          },
          "metadata": {}
        }
      ],
      "source": [
        "import matplotlib.pyplot as plt\n",
        "from sklearn import metrics\n",
        "\n",
        "confusion_matrix = metrics.confusion_matrix(y_test, predictions)\n",
        "cm_display = metrics.ConfusionMatrixDisplay(confusion_matrix = confusion_matrix, display_labels = [False, True])\n",
        "cm_display.plot()\n",
        "plt.xlabel('Predicted')\n",
        "plt.ylabel('Actual')\n",
        "plt.title('Confusion Matrix')\n",
        "plt.show()\n"
      ]
    },
    {
      "cell_type": "code",
      "execution_count": null,
      "metadata": {
        "id": "GmxhJ1MkePjo",
        "colab": {
          "base_uri": "https://localhost:8080/"
        },
        "outputId": "7952b658-2035-4ee3-8b79-21af9186a6ab"
      },
      "outputs": [
        {
          "output_type": "stream",
          "name": "stdout",
          "text": [
            "Enter the text to check sentimenthappy as well as sad\n",
            "Sentiment: Negative\n"
          ]
        }
      ],
      "source": [
        "# Function to predict sentiment for user input\n",
        "def predict_sentiment(text):\n",
        "    text_tfidf = vectorizer.transform([text])\n",
        "    prediction = log_reg.predict(text_tfidf)\n",
        "    return 'Positive' if prediction == 1 else 'Negative'\n",
        "\n",
        "# User input\n",
        "user_input = input(\"Enter the text to check sentiment\")\n",
        "# print(f\"User Input: {user_input}\")\n",
        "print(f\"Sentiment: {predict_sentiment(user_input)}\")"
      ]
    },
    {
      "cell_type": "code",
      "execution_count": null,
      "metadata": {
        "id": "xp3dNq2DePjp"
      },
      "outputs": [],
      "source": []
    },
    {
      "cell_type": "code",
      "execution_count": null,
      "metadata": {
        "id": "Y_F5kQe-ePjp"
      },
      "outputs": [],
      "source": []
    }
  ],
  "metadata": {
    "kernelspec": {
      "display_name": "Python 3 (ipykernel)",
      "language": "python",
      "name": "python3"
    },
    "language_info": {
      "codemirror_mode": {
        "name": "ipython",
        "version": 3
      },
      "file_extension": ".py",
      "mimetype": "text/x-python",
      "name": "python",
      "nbconvert_exporter": "python",
      "pygments_lexer": "ipython3",
      "version": "3.11.7"
    },
    "colab": {
      "provenance": []
    }
  },
  "nbformat": 4,
  "nbformat_minor": 0
}